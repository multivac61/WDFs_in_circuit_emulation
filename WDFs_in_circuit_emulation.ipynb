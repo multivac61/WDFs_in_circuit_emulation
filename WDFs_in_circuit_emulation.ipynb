{
 "cells": [
  {
   "cell_type": "markdown",
   "metadata": {},
   "source": [
    "*This notebook is a work in progress. Notes, comments and other suggestions should be sent to [olafur.bogason@mail.mcgill.ca](olafur.bogason@mail.mcgill.ca).*\n",
    "\n",
    "# Wave Digital Filters\n",
    "Wave Digital Filter theory is around fifty years old. It has very nice numerical properties, such as it preserves passitivity of the original circuit (no parasitic oscillations). Originally it was used to emulate RLC circuits that were decomposable into series and/or parallel subcircuits. This is very exciting times in WDF theory and I hope that this short introtuction will be of help for those wanting to get up to date with applying WDF to circuit emulation. What follows \n",
    "\n",
    "# Current status\n",
    "The theory theory has grown quite a bit since it's beginnings, one can read about in Fettwei's monumental publication...Only recently has the set of circuits where this theory is applicable been extended to arbitrary topologies []. Nonlinear circuit components have been added one by one. \n",
    "\n",
    "Topics I want to cover in this notebook:\n",
    "* Introduce the concept of WDFs and why they might be useful.\n",
    "* How to map Kirchoff-domain (K-domain) variables (voltage/current) to Wave Digital-domain (WD-domain) variables (incident/reflected waves).\n",
    "* Derivation of most common circuit element to the WD-domain.\n",
    "* Derivation of adaptors (series, parallel).\n",
    "* Examples of simple RCL circuits and comparison with LTSpice. \n",
    "    * Reference circuit\n",
    "    * WDF derivation\n",
    "    * SPQR tree\n",
    "    * Audio examples, we need them for fun!\n",
    "* Circuits in the wild have more complicated topologies, what can we do?\n",
    "* What about circuits that contain op-amps?\n",
    "* What about other non-linearities, such as diodes and/or transistors.\n",
    "* Where to go from here?\n",
    "\n",
    "To show, in code, how waves get propagated within adaptors and to hide away the nitty gritty maths, we slowly build up classes of one-port elements. I chose to let the adaptors be functions that lie outside and have the simulation loop be ad-hoc for each example."
   ]
  },
  {
   "cell_type": "code",
   "execution_count": 165,
   "metadata": {
    "collapsed": true
   },
   "outputs": [],
   "source": [
    "# Basic framework\n",
    "%matplotlib inline\n",
    "\n",
    "import numpy as np\n",
    "import pandas as pd\n",
    "from scipy import signal\n",
    "from sympy import *\n",
    "import matplotlib.pyplot as plt\n",
    "\n",
    "FS = 96e3  # Sample frequency.\n",
    "N = 2**14  # Number of points to simulate.\n",
    "\n",
    "input = np.zeros(N)\n",
    "input[0] = 1  # Input is a delta function.\n",
    "output = np.zeros(input.size)\n",
    "steps  = np.arange(N)\n",
    "\n",
    "def plot_freqz(x, title=\"Frequency response\"):\n",
    "    w, h = signal.freqz(x, 1, 2048*2)\n",
    "    H = 20 * np.log10(np.abs(h))\n",
    "    f = w / (2 * np.pi) * FS\n",
    "    plt.semilogx(f, H, label=\"WDF\")\n",
    "    plt.xlim([np.min(f), np.max(f)])\n",
    "    plt.title(title)\n",
    "    plt.xlabel('Frequency [Hz]')\n",
    "    plt.ylabel('Magnitude [dB]')\n",
    "\n",
    "def plot_ltspice_freqz(filename, title=\"Frequency response\", out_label='V(vout)'):\n",
    "    def imag2mag(z):\n",
    "        # Returns the maginude of an imaginary number.\n",
    "        a, b = map(float, z.split(','))\n",
    "        return 20*np.log10(np.sqrt(a*a + b*b))\n",
    "    \n",
    "    x = pd.read_csv(filename, delim_whitespace=True)\n",
    "    x['H_dB'] = x[out_label].apply(imag2mag)\n",
    "\n",
    "    f = np.array(x['Freq.'])\n",
    "    H_db = np.array(x['H_dB'])\n",
    "    plt.semilogx(f, H_db, label=\"LTspice\")\n",
    "\n",
    "\n",
    "class WDFStructure(object):\n",
    "    def __init__(self):\n",
    "        self.a, self.b = 0, 0\n",
    "        \n",
    "    def wave_to_voltage(self):\n",
    "        # Converts wave variables to voltage or current\n",
    "        # depending on the value of Rp.\n",
    "        return (self.a + self.b) / 2"
   ]
  },
  {
   "cell_type": "markdown",
   "metadata": {},
   "source": [
    "# WD-domain variables\n",
    "In this part of the introduction we will use the definition of voltage wave variables and derive the WDF representation for one port elements. One port elemets in electric circuits include components like resistors, capacitor and inductors. They also include ideal and resistive voltage and current sources along with short and open circuits.\n",
    "\n",
    "We will do the derivation using concepts from circuit design such as the Laplace transform. Another key part of the derivation is the use of the bilinear transform to digitize the lumped analog circuit parts:\n",
    "\n",
    "$$ s \\leftarrow \\frac{1}{2 f_s} \\frac{z - 1}{z + 1} $$\n",
    "\n",
    "To map voltages and currents to the wave domain variables, inciding- and reflected waves, a and b, we use the following linear transforms:\n",
    "\n",
    "$$ a = v + i \\cdot R_p \\quad b = v - i \\cdot R_p $$\n",
    "\n",
    "and back again\n",
    "\n",
    "$$ v = \\frac{1}{2}(a + b) \\quad i = \\frac{1}{2 R_p}(a - b),  $$\n",
    "\n",
    "There is one thing to bear in mind during this derivation. For the resulting WDF structure to be computable we cannot have any delay-free loops inside it. That means that for each one-port element we are looking for a function $f$ that maps $a$ -> $b$ but $b_t$ cannot depend on $a_t$ but only on delayed versions of $a$, for example$a_{t-1}$  (1). \n",
    "\n",
    "To deal with this issue we have two main tools at our disposal. We have one free parameter to work with, $R_p$, the port resistance, which gets introduced into the system physcially. The other tool is to make one port of a single adaptor reflection free. Meaning that we choose it's port resistance so that the reflected wave at that particular port does not depend on the incident wave of that port.\n",
    "\n",
    "Photo of K-domain and WD-domain ports and the mappings from v, i to a, b\n",
    "\n",
    "\n",
    "# One port elements\n",
    "In this section we start with the K-domain representaion of a one-port element and derive the WD-domain counterpart. In the derivation process we use the transformation from K- to WD-domain extensively.\n",
    "\n",
    "### WDF Resistor\n",
    "A resistor is fully describe in lumped circuit theory by the voltage over it and current through it.\n",
    "\n",
    "$$ Z_R = R = \\frac{v}{i} = \\frac{\\frac{1}{2}(a + b)}{\\frac{1}{2 R_p}(a - b)} $$\n",
    "\n",
    "$$ b = \\frac{R - R_p}{R + R_p} a $$\n",
    "\n",
    "Now for (1) to be fulfilled we need to have $R_p = R$. And now we see that $Z_R = 0$ so $b = 0$ for all resistor elements. The reflected wave is always zero, independent of the inciding wave! What does that mean? Will the resistors not contribute at all to the WDF structure? \n",
    "\n",
    "Far from it. As we will see when we look at connecting one-port elements together, the port resistances of each element will in fact contribute to the scattering of inciding waves at that given port."
   ]
  },
  {
   "cell_type": "code",
   "execution_count": 166,
   "metadata": {
    "collapsed": true
   },
   "outputs": [],
   "source": [
    "class Resistor(WDFStructure):\n",
    "    def __init__(self, R):\n",
    "        self.a, self.b = 0, 0\n",
    "        self.Rp = R\n",
    "    \n",
    "    def get_reflected_wave(self, a):\n",
    "        self.a = a\n",
    "        self.b = 0\n",
    "        return self.b"
   ]
  },
  {
   "cell_type": "markdown",
   "metadata": {},
   "source": [
    "### WDF Capacitor\n",
    "Now we move on to reactive elements. and describe the capacitor as a function of the Laplace variable $s$.\n",
    "\n",
    "$$ Z_C = \\frac{1}{sC} = \\frac{v}{i} = \\frac{\\frac{1}{2}(a + b)}{\\frac{1}{2 R_p}(a - b)} $$\n",
    "\n",
    "$$ b = S a = \\frac{1 - R_p C s}{1 + R_p C s} a $$\n",
    "\n",
    "Now we use the bilinear transform and digitize the function S. Note here that there is no \n",
    "\n",
    "$$ b = S a = \\frac{\\frac{1}{2 f_s} \\frac{z - 1}{z + 1}L - R_p}{\\frac{1}{2 f_s} \\frac{z - 1}{z + 1}L + R_p} a =  \\frac{(1 - 2 f_s C R_p) + (1 +  2 f_s C R_p)z^{-1}}{(1 + 2 f_s C R_p) + (1 -  2 f_s C R_p)z^{-1}} a $$\n",
    "\n",
    "We can now see that the only way (1) be fulfilled is if $R_p = \\frac{1}{2f_sC}$. Plugging that result into the equation above we get that $ b = z^{-1} a $, which means that the reflected wave is simply a unit-delayed inciding wave."
   ]
  },
  {
   "cell_type": "code",
   "execution_count": 167,
   "metadata": {
    "collapsed": false
   },
   "outputs": [],
   "source": [
    "class Capacitor(WDFStructure):\n",
    "    def __init__(self, C):\n",
    "        WDFStructure.__init__(self)\n",
    "        self.Rp = 1 / (2 * FS * C)\n",
    "    \n",
    "    def get_reflected_wave(self, a):\n",
    "        self.b = self.a\n",
    "        self.a = a\n",
    "        return self.b\n",
    "    \n",
    "    def get_incident_wave(self, a):\n",
    "        self.a = a"
   ]
  },
  {
   "cell_type": "markdown",
   "metadata": {},
   "source": [
    "### WDF Inductor\n",
    "Following the same approach as above we can easilly derive the one port WD-domain adaptor for an inductor.\n",
    "\n",
    "$$ Z_L = sL = \\frac{v}{i} = \\frac{\\frac{1}{2}(a + b)}{\\frac{1}{2 R_p}(a - b)} $$\n",
    "\n",
    "$$ b = S a = \\frac{sL - R_p}{sL + R_p} a $$\n",
    "\n",
    "Now we use the bilinear transform and digitize S. \n",
    "\n",
    "$$ b = S a = \\frac{\\frac{1}{2 f_s} \\frac{z - 1}{z + 1}L - R_p}{\\frac{1}{2 f_s} \\frac{z - 1}{z + 1}L + R_p} a = \\frac{(2f_sL - R_p) - (2f_sL + R_p)z^{-1}}{(2f_sL + R_p) + (2f_sL - R_p)z^{-1}} a $$\n",
    "\n",
    "Again we see that the only way (1) be fulfilled is if $R_p = 2 f_s L$. Plugging that result into the equation above we get that $b = - z^{-1} a$, which means that the reflected wave is a unit-delayed inciding wave with it's phase inverted."
   ]
  },
  {
   "cell_type": "code",
   "execution_count": 168,
   "metadata": {
    "collapsed": true
   },
   "outputs": [],
   "source": [
    "class Inductor(WDFStructure):\n",
    "    def __init__(self, L):\n",
    "        WDFStructure.__init__(self)\n",
    "        self.Rp = (2 * FS * L)\n",
    "    \n",
    "    def get_reflected_wave(self, a):\n",
    "        self.b = self.a\n",
    "        self.a = a\n",
    "        return -self.b"
   ]
  },
  {
   "cell_type": "markdown",
   "metadata": {},
   "source": [
    "### Short circuit\n",
    "A short circuit can most easilly be seen as a resistor with no resistance, that is $R = 0$\n",
    "\n",
    "$$ b = \\frac{R - R_p}{R + R_p} a = -a$$\n",
    "\n",
    "which essentially means that all the inciding wave gets projected back through the port."
   ]
  },
  {
   "cell_type": "code",
   "execution_count": null,
   "metadata": {
    "collapsed": true
   },
   "outputs": [],
   "source": []
  },
  {
   "cell_type": "markdown",
   "metadata": {},
   "source": [
    "### Open circuit\n",
    "A short circuit can most easilly be seen as a resistor with infinite resitance, that is $R \\rightarrow \\infty$\n",
    "\n",
    "$$ b = \\frac{R - R_p}{R + R_p} a = \\frac{R/R_p - 1}{R/R_p + 1} a = a$$\n",
    "\n",
    "So the only difference of the relationship between a short - and open circuit is the sign. The sign can be interpreted as a phase change."
   ]
  },
  {
   "cell_type": "code",
   "execution_count": null,
   "metadata": {
    "collapsed": true
   },
   "outputs": [],
   "source": []
  },
  {
   "cell_type": "markdown",
   "metadata": {},
   "source": [
    "### Ideal Voltage Source\n",
    "Picture\n",
    "\n",
    "We can get the relationship in the case of an ideal voltage source with voltage $v_s$ directly from the definition of wave variables with respect to Kirchoff ones:\n",
    "\n",
    "$$ v = \\frac{1}{2}(a + b) \\rightarrow b = 2v - a $$"
   ]
  },
  {
   "cell_type": "code",
   "execution_count": 169,
   "metadata": {
    "collapsed": true
   },
   "outputs": [],
   "source": [
    "class IdealVoltageSource(WDFStructure):\n",
    "    def __init__(self):\n",
    "        WDFStructure.__init__(self)\n",
    "        \n",
    "    def get_reflected_wave(self, a, vs=0):\n",
    "        self.a = a\n",
    "        self.b = 2*vs - a\n",
    "        return self.b"
   ]
  },
  {
   "cell_type": "markdown",
   "metadata": {},
   "source": [
    "### Ideal Current Source\n",
    "The same is possible for the ideal current source with current $i_s$\n",
    "\n",
    "$$ v = \\frac{1}{2 R_p}(a - b) \\rightarrow b = a - 2 R_p i$$\n",
    "\n",
    "where $R_p$ is the port resistance and must be matched, which is a concept that we will cover in the next section."
   ]
  },
  {
   "cell_type": "code",
   "execution_count": 170,
   "metadata": {
    "collapsed": false
   },
   "outputs": [],
   "source": [
    "class IdealCurrentSource(WDFStructure):\n",
    "    def __init__(self):\n",
    "        WDFStructure.__init__(self)\n",
    "        \n",
    "    def get_reflected_wave(self, a, i_s=0):\n",
    "        self.a = a\n",
    "        self.b = a - 2*R_p*i_s\n",
    "        return self.b"
   ]
  },
  {
   "cell_type": "markdown",
   "metadata": {},
   "source": [
    "### Resistive Voltage Source\n",
    "Now what if we have an ideal voltage source with voltage $v_s$ connected in series with a resistor R? Then the Kirchoff voltage law gives us\n",
    "\n",
    "$$ v = v_s + R i \\\\ b = 2v - a \\\\ = 2(v_s + R i) - a\\\\  = 2v_s + 2 R \\frac{1}{2R_p}(a - b) - a$$\n",
    "\n",
    "Now if we choose to have to have $R = R_p$ then we get \n",
    "\n",
    "$$ b = 2 v_s + a - b -a \\\\ b = v_s $$ "
   ]
  },
  {
   "cell_type": "code",
   "execution_count": 171,
   "metadata": {
    "collapsed": true
   },
   "outputs": [],
   "source": [
    "class ResistiveVoltageSource(WDFStructure):\n",
    "    def __init__(self, R):\n",
    "        WDFStructure.__init__(self)\n",
    "        self.Rp = R\n",
    "    \n",
    "    def get_reflected_wave(self, a, v_s=0):\n",
    "        self.a = a\n",
    "        self.b = v_s\n",
    "        return self.b"
   ]
  },
  {
   "cell_type": "markdown",
   "metadata": {},
   "source": [
    "### Resistive Current Source\n",
    "What about a resistive current source? A resistive current source is essentially an ideal current source of magnitude $i_s$ connected in parallel with a resistor $R$. The voltage over the resistor can be quantified by $v = (i - i_s)R$ where $i$ is the current flowing into the port. We now have:\n",
    "\n",
    "$$ b = a - 2 R_p i \\\\ = a - 2 R_p \\frac{v}{R} + i_s R_p \\\\ = a - \\frac{R_p}{R}(a + b) + 2 i_s R_p $$\n",
    "\n",
    "Again if we choose to have $R = R_p$ then we get\n",
    "\n",
    "$$ b = R i_s $$"
   ]
  },
  {
   "cell_type": "code",
   "execution_count": 172,
   "metadata": {
    "collapsed": true
   },
   "outputs": [],
   "source": [
    "class ResistiveCurrentSource(WDFStructure):\n",
    "    def __init__(self, R):\n",
    "        WDFStructure.__init__(self)\n",
    "        self.Rp = R\n",
    "    \n",
    "    def get_reflected_wave(self, a, i_s=0):\n",
    "        self.a = a\n",
    "        self.b = self.Rp*i_s\n",
    "        return self.b"
   ]
  },
  {
   "cell_type": "markdown",
   "metadata": {},
   "source": [
    "### Table of results and interpretation\n",
    "Voltage waves. How does voltage over a capacitor, inductor and resistor behave? What is interesting about these results?"
   ]
  },
  {
   "cell_type": "markdown",
   "metadata": {},
   "source": [
    "# Adaptors for simple topologies\n",
    "Now that we have a couple of one port elements laid out we cant start to connect them together. Typically circuits that have been emulated using WDFs have been connected in some seperable series and/or parallel conjunction. That is why we will start with them.\n",
    "\n",
    "### Two-port simple adaptors\n",
    "Now we will move to derive the relationship of reflected waves to incident waves of two-port series and parallel adaptors.\n",
    "\n",
    "#### Series\n",
    "Two port series adaptors are described by the following two equations:\n",
    "\n",
    "$$ 0 = v_1 + v_2 \\\\ i_1 = i_2 = i_J $$\n",
    "\n",
    "where $i_J$ is the current flowing into the junction.\n",
    "\n",
    "$$ 0 = v_1 + v_2 = \\frac{1}{2}(a_1 + b_1) + \\frac{1}{2}(a_2 + b_2) \\\\ b_1 = -(a_2 + a_1) - b_2 $$\n",
    "\n",
    "$$ 0 = i_2 - i_1 = \\frac{1}{2R_2}(a_2 - b_2) - \\frac{1}{2R_1}(a_1 - b_1) \\\\ a_2 - b_2 - \\frac{R_2}{R_1}(a_1 = b_1) $$\n",
    "\n",
    "$$ b_2 = \\frac{R_1 - R_2}{R_1 + R_2}a_2 - \\frac{2R_2}{R_1 + R_2}a_1 = -a_1 + \\gamma(a_1 + a_2) $$\n",
    "\n",
    "where $ \\gamma = \\frac{R_1 - R_2}{R_1 + R_2} $ as defined by Fettweis and used all over the place when scattering junctions appear. Now we can get the reflected wave at port 1.\n",
    "\n",
    "$$ b_1 = -a_2 + \\gamma(a_1 + a_2) $$\n",
    "\n",
    "#### Parallel\n",
    "We can derive the scattering relationship for parallel adaptors in a similar fashion. Conversely to the series adaptor the currents in the parallel adaptor sum up to zero but the voltages are all equal.\n",
    "\n",
    "$$ 0 = i_1 + i_2 \\\\ v_1 = v_2 = v_J $$\n",
    "\n",
    "where $v_J$ is defined as the voltage at the junction. Now we can use the definition of the wave variables and derive the relationship of reflected waves to the incident ones:\n",
    "\n",
    "$$ 0 = i_1 + i_2 = \\frac{1}{2R_1}(a_1 - b_1) +  \\frac{1}{2R_2}(a_2 - b_2) $$\n",
    "\n",
    "$$ 0 = R_2(a_1 - b_1) + R_1(a_2 - b_2) \\\\ b_1 = a_1 + \\frac{R_1}{R_2}a_2 - \\frac{R_1}{R_2}b_2 $$\n",
    " \n",
    "And using equation ?? we can continue the derivation\n",
    "\n",
    "$$ 0 = v_2 - v_1 = \\frac{1}{2}(a_2 + b_2) - \\frac{1}{2}(a_1 + b_1) = -a_1 + a_2 \\frac{R_2 - R_1}{2 R_2} + b_2 \\frac{R_2 + R_1}{2 R_2} \\\\ b_2 \\frac{R_2 + R_1}{2 R_2} = a_1 - a_2 \\frac{R_2 - R_1}{2 R_2}$$\n",
    "\n",
    "\n",
    "$$ b_2 = \\frac{2 R_2}{R_1 + R_2} a_1 - \\frac{-R_1 + R_2}{R_1 + R_2} = a_1 + \\gamma (a_2 - a_1) $$\n",
    "\n",
    "$$  b_1 = a_1 + \\frac{R_1}{R_2}a_2 - \\frac{R_1}{R_2}b_2 \\\\ = a_1(1 - \\frac{2 R_1}{R_1 + R_2}) + a_2(\\frac{R_1}{R_2} - \\frac{R_1}{R_2}\\frac{R_1 - R_2}{R_1 + R_2}) \\\\ = a_2 + \\gamma(a_2 - a_1)$$\n",
    "\n",
    "Putting it together in vector format further shows us that we have a scattering matrix (rotation matrix + multiplication) in 2D space. In the case of a parallel adaptor we have:\n",
    "\n",
    "$$\n",
    "  \\begin{matrix}\\begin{pmatrix}b_1 \\\\ b_2 \\end{pmatrix} \\end{matrix}\n",
    "  =\n",
    "  \\begin{pmatrix} -\\gamma & 1 + \\gamma \\\\ 1 - \\gamma & \\gamma \\end{pmatrix}\n",
    "  \\begin{matrix}\\begin{pmatrix}a_1 \\\\ a_2 \\end{pmatrix} \\end{matrix}\n",
    "$$\n",
    "\n",
    "And for the series adaptor we have:\n",
    "\n",
    "$$\n",
    "  \\begin{matrix}\\begin{pmatrix}b_1 \\\\ b_2 \\end{pmatrix} \\end{matrix}\n",
    "  =\n",
    "  \\begin{pmatrix} \\gamma & 1 - \\gamma \\\\ 1 - \\gamma & \\gamma \\end{pmatrix}\n",
    "  \\begin{matrix}\\begin{pmatrix}a_1 \\\\ a_2 \\end{pmatrix} \\end{matrix}\n",
    "$$\n",
    "\n",
    "### N-port simple adaptors\n",
    "Although N-port simple adaptors can always be broken up into 2- and 3-port adaptors we will still carry out the derivation for a variable N size (because it isn't really any harder and we love to generalize).\n",
    "\n",
    "#### Series\n",
    "As in the case of a 2-port series adaptor the adaptor can be described by it's voltages and currents:\n",
    "\n",
    "$$ 0 = v_1 + v_2 + \\dots + v_N \\\\ i_1 = i_2 = \\dots = i_N$$\n",
    "\n",
    "So now we can start working...\n",
    "\n",
    "$$ 0 = v_1 + v_2 + \\dots + v_N = (a_1 - R_1 i_1) + (a_2 - R_2 i_2) + \\dots + (a_N - R_N i_N) \\\\  a_1 + a_2 + \\dots + a_N - i (R_1 + R_2 + \\dots + R_N) = 0 $$\n",
    "\n",
    "$$ i = i_i = \\frac{1}{2 R_i}(a_i - b_i) = \\frac{1}{R_1 + R_2 + \\dots + R_N}(a_1 + a_2 + \\dots + a_N) \\\\ b_i = a_i - \\frac{2 R_i}{R_1 + R_2 + \\dots + R_N}(a_1 + a_2 + \\dots + a_N)$$\n",
    "\n",
    "\n",
    "#### Parallel\n",
    "To save space and simplify calculations I put $G_i = \\frac{1}{R_i}$\n",
    "\n",
    "$$ 0 = i_1 + i_2 + \\dots + i_N \\\\ v_1 = v_2 = \\dots = v_N = v $$\n",
    "\n",
    "$$ 0 = i_1 + i_2 + \\dots + i_N = G_1(a_1 - v) + G_2(a_2 - v) + \\dots + G_N(a_N - v) $$\n",
    "\n",
    "$$ v = v_i =  \\frac{1}{2}(a_i + b_i) = \\frac{1}{G_1 + G_2 + \\dots + G_N}(G_1 a_1 + G_2 a_2 + \\dots + G_N a_N) $$\n",
    "\n",
    "$$ b_i = \\frac{2}{G_1 + G_2 + \\dots + G_N}(G_1 a_1 + G_2 a_2 + \\dots + G_N a_N) - a_i$$"
   ]
  },
  {
   "cell_type": "code",
   "execution_count": 173,
   "metadata": {
    "collapsed": false
   },
   "outputs": [],
   "source": [
    "def series_adaptor(A, R):\n",
    "    Rtot = np.sum(R)\n",
    "    Atot = np.sum(A)\n",
    "    return [a - 2*r / Rtot * Atot for a, r in zip(A, R)]\n",
    "\n",
    "def parallel_adaptor(A, R):\n",
    "    G = [1/r for r in R]\n",
    "    Gtot = np.sum(G)\n",
    "    Gamma = [2*g / Gtot for g in G]\n",
    "    aDotGamma = np.dot(A, Gamma)\n",
    "    return [aDotGamma - a for a in A]"
   ]
  },
  {
   "cell_type": "markdown",
   "metadata": {},
   "source": [
    "\n",
    "# On computability\n",
    "Because we want our structures to be computable we cannot have any delay-free loops residing inside of them. That means that if we are to connect two adaptors together, or connect an element without its port resistance set, we are going to have to do something about it. \n",
    "\n",
    "One way is to *match* the port resistance of a port that has a delay-free relationship between its incident wave and reflected one. That way, due to the series/parallel equations that we have derived above, the reflected wave of that given port will not depend on the inc\n",
    "ident wave at all.\n",
    "\n",
    "Usually the way computalibity is ensured is to make up a SPQR tree of the circuit. SQPQ tree is an extension of the Binary Computation Tree as it allows for so called R-type adaptors which we will cover later. To see how to set-up a circuit in such a tree, please follow on to the next section."
   ]
  },
  {
   "cell_type": "markdown",
   "metadata": {},
   "source": [
    "# Examples\n",
    "\n",
    "Now we will use the basic theory that we've learned and compute the magnitude response of some simple circuits. The code will be very generic and not make use of any object oriented concepts. Parties interested in seeing an OO approach for WDFs should consider [rt-wdf](https://github.com/m-rest/rt-wdf)."
   ]
  },
  {
   "cell_type": "code",
   "execution_count": null,
   "metadata": {
    "collapsed": true
   },
   "outputs": [],
   "source": []
  },
  {
   "cell_type": "markdown",
   "metadata": {},
   "source": [
    "## Example - Resistive voltage source connected in series with RC\n",
    "\n",
    "### WDF derivation\n",
    "![WDF derivation for example 1](files/images/ex01_circuit.jpg)"
   ]
  },
  {
   "cell_type": "code",
   "execution_count": 174,
   "metadata": {
    "collapsed": false
   },
   "outputs": [
    {
     "data": {
      "image/png": "[encoded data removed]",
      "text/plain": [
       "<matplotlib.figure.Figure at 0x7faf766b6160>"
      ]
     },
     "metadata": {},
     "output_type": "display_data"
    }
   ],
   "source": [
    "# One-port parameters.\n",
    "V1 = ResistiveVoltageSource(1)  # 1 Ohm resistive volt. source\n",
    "C1 = Capacitor(3.5e-5)          # 0.35 uF capacitor.\n",
    "R1 = Resistor(10)               # 10 Ohm resistor.\n",
    "\n",
    "# Adaptor parameters.\n",
    "Rp1, Rp2, Rp3 = C1.Rp, R1.Rp, V1.Rp\n",
    "\n",
    "# Simulation loop.\n",
    "b1, b2, b3 = 0, 0, 0\n",
    "for i in steps:\n",
    "    # 1. Gather inputs and scatter them.\n",
    "    a1 = C1.get_reflected_wave(b1)\n",
    "    a2 = R1.get_reflected_wave(0)\n",
    "    a3 = V1.get_reflected_wave(0, input[i])  # Read input signal off voltage source.\n",
    "    \n",
    "    a  = (a1, a2, a3)\n",
    "    Rp = (Rp1, Rp2, Rp3)\n",
    "    b1, b2, b3 = series_adaptor(a, Rp)\n",
    "\n",
    "    # 2. Gather outputs.\n",
    "    output[i] = C1.wave_to_voltage()  # Output is voltage over C1.\n",
    "    C1.get_incident_wave(b1)          # Store new input inside Capacitor.\n",
    "\n",
    "# Plot frequency response of the WDF simulation.\n",
    "plot_freqz(output, title=\"RC series circuit - Frequency response\")\n",
    "\n",
    "# Plot frequency response from LTspice\n",
    "plot_ltspice_freqz(\"data/ex01.txt\", title=\"Frequency response\", out_label='V(vout)')\n",
    "\n",
    "# Show the Frequency response\n",
    "plt.legend(loc=3)\n",
    "plt.show()"
   ]
  },
  {
   "cell_type": "markdown",
   "metadata": {},
   "source": [
    "## Example - Resistive voltage source connected to RC, RL branches\n",
    "![Reference circuit for example 1](files/images/ex03.png)\n",
    "\n",
    "### WDF derivation\n",
    "![WDF derivation for example 1](files/images/ex03_circuit.jpg)"
   ]
  },
  {
   "cell_type": "code",
   "execution_count": 175,
   "metadata": {
    "collapsed": false
   },
   "outputs": [
    {
     "data": {
      "image/png": "[encoded data removed]",
      "text/plain": [
       "<matplotlib.figure.Figure at 0x7faf857ae470>"
      ]
     },
     "metadata": {},
     "output_type": "display_data"
    },
    {
     "data": {
      "image/png": "[encoded data removed]",
      "text/plain": [
       "<matplotlib.figure.Figure at 0x7faf7679ae10>"
      ]
     },
     "metadata": {},
     "output_type": "display_data"
    }
   ],
   "source": [
    "# Two outputs.\n",
    "output_vout1 = np.zeros(input.size)\n",
    "output_vout2 = np.zeros(input.size)\n",
    "\n",
    "# One-port parameters.\n",
    "V1 = 10  # Voltage source with 10 Ohm series resistor.\n",
    "R2 = 10  # 10 Ohm resistor.\n",
    "R3 = 10  # 10 Ohm resistor.\n",
    "L1 = 2 * FS * 1e-3  # 1 mH Inductor.\n",
    "C1 = 1 / (2 * FS * 1e-3)  # 1 mF Capacitor.\n",
    "\n",
    "## Adaptor parameters.\n",
    "# Series Port 2.\n",
    "Rs22 = R3\n",
    "Rs23 = L1\n",
    "Rs21 = Rs22 + Rs23  # Matched port.\n",
    "# Parallel Port. \n",
    "Rp2 = V1\n",
    "Rp3 = Rs21\n",
    "Rp1 = 1 / (1/Rp2 + 1/Rp3)  # Matched port.\n",
    "# Series Port 1.\n",
    "Rs11 = Rp1\n",
    "Rs12 = C1\n",
    "Rs13 = R2\n",
    "\n",
    "C1_z1 = 0  # Memory inside capacitor.\n",
    "L1_z1 = 0  # Memory inside inductor.\n",
    "\n",
    "# Simulation loop.\n",
    "ap1,  ap2,  ap3  = 0, 0, 0\n",
    "as11, as12, as13 = 0, 0, 0\n",
    "as21, as22, as23 = 0, 0, 0\n",
    "for i in steps:\n",
    "    # 1. Wave up.\n",
    "    as22 = 0\n",
    "    as23 = -L1_z1\n",
    "    \n",
    "    as2 = (as21, as22, as23)\n",
    "    Rs2 = (Rs21, Rs22, Rs23)\n",
    "    bs21, bs22, bs23 = series_adaptor(as2, Rs2)\n",
    "    ap2 = input[i]  # Read signal from voltage source.\n",
    "    ap3 = bs21\n",
    "    \n",
    "    ap = (ap1, ap2, ap3)\n",
    "    Rp = (Rp1, Rp2, Rp3)\n",
    "    bp1, bp2, bp3 = parallel_adaptor(ap, Rp)\n",
    "    \n",
    "    as11 = bp1\n",
    "    as12 = C1_z1\n",
    "    as13 = 0\n",
    "    \n",
    "    as1 = (as11, as12, as13)\n",
    "    Rs1 = (Rs11, Rs12, Rs13)\n",
    "    bs11, bs12, bs13 = series_adaptor(as1, Rs1)\n",
    "    \n",
    "    # 2. Wave down.\n",
    "    ap1 = bs11\n",
    "    ap = (ap1, ap2, ap3)\n",
    "    Rp = (Rp1, Rp2, Rp3)\n",
    "    bp1, bp2, bp3 = parallel_adaptor(ap, Rp)\n",
    "    \n",
    "    as21 = bp3\n",
    "    as2 = (as21, as22, as23)\n",
    "    Rs2 = (Rs21, Rs22, Rs23)\n",
    "    bs21, bs22, bs23 = series_adaptor(as2, Rs2)\n",
    "\n",
    "    output_vout1[i] = wave_to_kirchhoff(as13, bs13)  # Output is voltage through R2\n",
    "    output_vout2[i] = wave_to_kirchhoff(as22, bs22)  # Output is voltage through R3\n",
    "    C1_z1 = bs12\n",
    "    L1_z1 = bs23\n",
    "\n",
    "# Plot frequency response of the WDF simulation.\n",
    "plot_freqz(output_vout1, title=\"RCL circuit, Vout1 - Frequency response\")\n",
    "\n",
    "# Plot frequency response from LTspice\n",
    "plot_ltspice_freqz(\"data/ex03_vout1.txt\", title=\"Frequency response\", out_label='V(vout1)')\n",
    "\n",
    "# Show the Frequency responses\n",
    "plt.legend(loc=0)  # Find best location of legend box.\n",
    "plt.show()\n",
    "\n",
    "# Plot frequency response of the WDF simulation.\n",
    "plot_freqz(output_vout2, title=\"RCL circuit, Vout2 - Frequency response\")\n",
    "\n",
    "# Plot frequency response from LTspice\n",
    "plot_ltspice_freqz(\"data/ex03_vout2.txt\", title=\"Frequency response\", out_label='V(vout2)')\n",
    "\n",
    "# Show the Frequency responses\n",
    "plt.legend(loc=0)  # Find best location of legend box.\n",
    "plt.show()"
   ]
  },
  {
   "cell_type": "markdown",
   "metadata": {},
   "source": [
    "# More complicated  topologies\n",
    "Simple R-type adaptors derived using MNA. Show how three port parallel adaptor can be defined\n",
    "\n",
    "Move onto more complicated topologies that **need** MNA + R-type adaptors."
   ]
  },
  {
   "cell_type": "markdown",
   "metadata": {},
   "source": [
    "# Wave Digital Filter Adaptors for Arbitrary Topologies and Multiport Linear Elements\n",
    "## by Kurt James Werner, Julius O. Smith III, Jonathan S. Abe\n",
    "\n",
    "[Link to paper](http://www.ntnu.edu/documents/1001201110/1266017954/DAFx-15_submission_53.pdf).\n",
    "\n",
    "## Main topics\n",
    "Derive scattering matrix for arbitrary circuit topology using [Modified Nodal Analysis](https://www.swarthmore.edu/NatSci/echeeve1/Ref/mna/MNA3.html#Review) in the W-domain.\n",
    "\n",
    "## Derivation of scattering matrix\n",
    "We want to find a matrix $S$ so that \n",
    "\n",
    "$$ b = S a $$\n",
    "\n",
    "For each port on a R-type adaptor we place a Thevenin equivalent circuit. We then apply the MNA method (circuit element stamps) in the K-domain and finally transfer that into the W-domain.\n",
    "\n",
    "![WDF derivation for example 1](files/images/pr_arbitrary_wdf_adpators/image001.png)\n",
    "\n",
    "$R$ is the resistor value in the Thévenin equivalent circuit, $R_p$ the WDF adaptor port resistance, $i$ is the current going into the port and $j$ is the source current.\n",
    "\n",
    "Now we set $R = R_p, e = a, i = -j$ and remember the folowing equations that define the relationship between K-domain and the W-domain.\n",
    "\n",
    "$$ a = v + R_p i, b = v - R_p i $$\n",
    "\n",
    "and use these two equations to eliminate $v$ and $i$:\n",
    "\n",
    "$$ b = a + 2 R_p j $$\n",
    "\n",
    "\n",
    "![WDF derivation for example 1](files/images/pr_arbitrary_wdf_adpators/image002.png)\n",
    "\n",
    "Then all we need to do is get $j$ out of this set of equations:\n",
    "\n",
    "![WDF derivation for example 1](files/images/pr_arbitrary_wdf_adpators/image003.png)\n",
    "\n",
    "Now we have the solution to the equation $ b = S a $ where\n",
    "\n",
    "![WDF derivation for example 1](files/images/pr_arbitrary_wdf_adpators/image004.png)\n",
    "\n",
    "mna_element_stamps.jpg\n",
    "![WDF derivation for example 1](files/images/mna_element_stamps.jpg)\n",
    "\n",
    "## Method applied to a previous example\n",
    "\n",
    "![WDF derivation for example 1](files/images/pr_arbitrary_wdf_adpators/rlc_circuit_radaptor.jpg)\n",
    "\n",
    "\n",
    "\n",
    "![WDF derivation for example 1](files/images/pr_arbitrary_wdf_adpators/sallen_key_lp.jpg)"
   ]
  },
  {
   "cell_type": "markdown",
   "metadata": {},
   "source": [
    "# Op amps\n",
    "\n",
    "Nullator and macromodel discussion.\n",
    "\n",
    "Examples: Buffer and Sallen-Key filter"
   ]
  },
  {
   "cell_type": "markdown",
   "metadata": {},
   "source": [
    "# Diodes"
   ]
  },
  {
   "cell_type": "markdown",
   "metadata": {},
   "source": [
    "# Final thoughts"
   ]
  },
  {
   "cell_type": "markdown",
   "metadata": {},
   "source": [
    "# Biliography and references"
   ]
  },
  {
   "cell_type": "markdown",
   "metadata": {},
   "source": [
    "# LTspice files and other handy things"
   ]
  }
 ],
 "metadata": {
  "kernelspec": {
   "display_name": "Python 3",
   "language": "python",
   "name": "python3"
  },
  "language_info": {
   "codemirror_mode": {
    "name": "ipython",
    "version": 3
   },
   "file_extension": ".py",
   "mimetype": "text/x-python",
   "name": "python",
   "nbconvert_exporter": "python",
   "pygments_lexer": "ipython3",
   "version": "3.5.2"
  }
 },
 "nbformat": 4,
 "nbformat_minor": 1
}
